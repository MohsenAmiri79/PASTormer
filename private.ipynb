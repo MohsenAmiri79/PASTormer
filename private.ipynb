{
 "cells": [
  {
   "cell_type": "code",
   "execution_count": 1,
   "metadata": {},
   "outputs": [],
   "source": [
    "with open('requirements.txt', 'r') as f:\n",
    "    all_packages = f.read().splitlines()\n",
    "\n",
    "# List of your project's necessary packages\n",
    "necessary_packages = [\n",
    "    'opencv-python',\n",
    "    'Pillow',\n",
    "    'numpy',\n",
    "    'torch',\n",
    "    'torchvision',\n",
    "    'matplotlib',\n",
    "    'einops',\n",
    "]\n",
    "with open('filtered_requirements.txt', 'w') as f:\n",
    "    for package in all_packages:\n",
    "        for necessary_package in necessary_packages:\n",
    "            if necessary_package in package:\n",
    "                f.write(package + '\\n')\n",
    "                break"
   ]
  }
 ],
 "metadata": {
  "kernelspec": {
   "display_name": "DEF",
   "language": "python",
   "name": "python3"
  },
  "language_info": {
   "codemirror_mode": {
    "name": "ipython",
    "version": 3
   },
   "file_extension": ".py",
   "mimetype": "text/x-python",
   "name": "python",
   "nbconvert_exporter": "python",
   "pygments_lexer": "ipython3",
   "version": "3.10.12"
  }
 },
 "nbformat": 4,
 "nbformat_minor": 2
}
