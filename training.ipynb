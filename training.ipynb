{
 "cells": [
  {
   "cell_type": "code",
   "execution_count": null,
   "metadata": {},
   "outputs": [],
   "source": [
    "# Python Packages\n",
    "from torch.utils.data import DataLoader\n",
    "\n",
    "import numpy as np\n",
    "\n",
    "import warnings\n",
    "import random\n",
    "import torch\n",
    "import os\n",
    "\n",
    "# Local Modules\n",
    "from utilities.utils import train_model_progressive, plot_loss\n",
    "from utilities.datasets import SID_dataset\n",
    "from models.QStormernew import PASTormer\n",
    "from models.QStormer import QStormer\n",
    "from models.Restormer import Restormer "
   ]
  },
  {
   "cell_type": "code",
   "execution_count": null,
   "metadata": {},
   "outputs": [],
   "source": [
    "warnings.filterwarnings('ignore')\n",
    "\n",
    "torch.backends.cudnn.benchmark = True\n",
    "random.seed(42)\n",
    "np.random.seed(42)\n",
    "torch.manual_seed(42)\n",
    "torch.cuda.manual_seed_all(42)\n",
    "\n",
    "DEVICE = torch.device(\n",
    "    'cuda') if torch.cuda.is_available() else torch.device('cpu')\n",
    "\n",
    "IM_SIZE = 256"
   ]
  },
  {
   "cell_type": "code",
   "execution_count": null,
   "metadata": {},
   "outputs": [],
   "source": [
    "input_path = \"data/training/x/\"\n",
    "label_path = \"data/training/y/\"\n",
    "\n",
    "valid_input_path = \"data/validation/x/\"\n",
    "valid_label_path = \"data/validation/y/\"\n",
    "\n",
    "batch_size = 8\n",
    "\n",
    "dataset_train = SID_dataset(input_path, label_path, IM_SIZE)\n",
    "dataset_valid = SID_dataset(valid_input_path, valid_label_path, IM_SIZE)\n",
    "train_loader = DataLoader(\n",
    "    dataset_train, batch_size=batch_size, num_workers=4, shuffle=True, pin_memory=True)\n",
    "valid_loader = DataLoader(\n",
    "    dataset_valid, batch_size=1, num_workers=4, shuffle=True, pin_memory=True)"
   ]
  },
  {
   "cell_type": "code",
   "execution_count": null,
   "metadata": {},
   "outputs": [],
   "source": [
    "qnet = PASTormer().to(DEVICE)\n",
    "param_net = sum(p.numel() for p in qnet.parameters())\n",
    "print(f'QStormer:\\t\\t{param_net}')"
   ]
  },
  {
   "cell_type": "code",
   "execution_count": null,
   "metadata": {},
   "outputs": [],
   "source": [
    "models = [\n",
    "    [qnet, 'QStormer'],\n",
    "]\n",
    "\n",
    "train_dict = {\n",
    "    'train_loaders': train_loader,\n",
    "    'valid_loaders': valid_loader,\n",
    "    'device': DEVICE,\n",
    "    'epoch': 25,\n",
    "    'lr': 5e-4,\n",
    "    'lr_min': 5e-8,\n",
    "    'im_sizes': IM_SIZE\n",
    "}"
   ]
  },
  {
   "cell_type": "code",
   "execution_count": null,
   "metadata": {},
   "outputs": [],
   "source": [
    "results = []\n",
    "for i, model in enumerate(models):\n",
    "    if not os.path.isdir(f'trained_models'):\n",
    "        os.mkdir(f'trained_models')\n",
    "    if not os.path.isdir(f'trained_models/{model[1]}'):\n",
    "        os.mkdir(f'trained_models/{model[1]}')\n",
    "    print(f'Training {model[1]}')\n",
    "    result = train_model_progressive(model, **train_dict)\n",
    "    result = [result, model[1]]\n",
    "    results.append(result)"
   ]
  },
  {
   "cell_type": "code",
   "execution_count": null,
   "metadata": {},
   "outputs": [],
   "source": [
    "for result in results:\n",
    "    print(result[1])\n",
    "    plot_loss(**result[0])"
   ]
  }
 ],
 "metadata": {
  "kernelspec": {
   "display_name": "Python 3",
   "language": "python",
   "name": "python3"
  },
  "language_info": {
   "codemirror_mode": {
    "name": "ipython",
    "version": 3
   },
   "file_extension": ".py",
   "mimetype": "text/x-python",
   "name": "python",
   "nbconvert_exporter": "python",
   "pygments_lexer": "ipython3",
   "version": "3.10.12"
  },
  "orig_nbformat": 4,
  "vscode": {
   "interpreter": {
    "hash": "cd441162cfa4fbe3f42d8dc0031d437f6b3f7c44e7fa92199c085a21942b641c"
   }
  }
 },
 "nbformat": 4,
 "nbformat_minor": 2
}
